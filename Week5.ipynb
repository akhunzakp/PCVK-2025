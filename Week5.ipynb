{
  "nbformat": 4,
  "nbformat_minor": 0,
  "metadata": {
    "colab": {
      "provenance": [],
      "mount_file_id": "1dGv3N7TFwA7Qa5GqIF0nRiVYlLeR2m6n",
      "authorship_tag": "ABX9TyM1xd42XmfMxGAErZz1LP3t",
      "include_colab_link": true
    },
    "kernelspec": {
      "name": "python3",
      "display_name": "Python 3"
    },
    "language_info": {
      "name": "python"
    }
  },
  "cells": [
    {
      "cell_type": "markdown",
      "metadata": {
        "id": "view-in-github",
        "colab_type": "text"
      },
      "source": [
        "<a href=\"https://colab.research.google.com/github/akhunzakp/PCVK-2025/blob/main/Week5.ipynb\" target=\"_parent\"><img src=\"https://colab.research.google.com/assets/colab-badge.svg\" alt=\"Open In Colab\"/></a>"
      ]
    },
    {
      "cell_type": "code",
      "execution_count": 1,
      "metadata": {
        "colab": {
          "base_uri": "https://localhost:8080/"
        },
        "id": "BYTC5Txm0ASB",
        "outputId": "581f44da-5230-4b26-85c7-be3f8efa96f6"
      },
      "outputs": [
        {
          "output_type": "stream",
          "name": "stdout",
          "text": [
            "Drive already mounted at /content/drive; to attempt to forcibly remount, call drive.mount(\"/content/drive\", force_remount=True).\n"
          ]
        }
      ],
      "source": [
        "from google.colab import drive\n",
        "# Accessing My Google Drive\n",
        "drive.mount('/content/drive')"
      ]
    },
    {
      "cell_type": "code",
      "source": [
        "import cv2 as cv\n",
        "from google.colab.patches import cv2_imshow\n",
        "from skimage import io\n",
        "import matplotlib.pyplot as plt\n",
        "import numpy as np\n",
        "import math\n",
        "import os\n",
        "import glob\n",
        "\n",
        "# Pastikan Anda memiliki folder 'images' di drive Anda dengan gambar-gambar yang diperlukan.\n",
        "# Contoh path: '/content/drive/MyDrive/images/'\n",
        "# Anda mungkin perlu menyesuaikan path ini sesuai dengan struktur folder Anda."
      ],
      "metadata": {
        "id": "APxbYW9r0ybO"
      },
      "execution_count": 2,
      "outputs": []
    }
  ]
}